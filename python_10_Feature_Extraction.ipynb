{
  "nbformat": 4,
  "nbformat_minor": 0,
  "metadata": {
    "colab": {
      "provenance": [],
      "authorship_tag": "ABX9TyPeyBmQoKGhvnjKb/whfUdw",
      "include_colab_link": true
    },
    "kernelspec": {
      "name": "python3",
      "display_name": "Python 3"
    },
    "language_info": {
      "name": "python"
    }
  },
  "cells": [
    {
      "cell_type": "markdown",
      "metadata": {
        "id": "view-in-github",
        "colab_type": "text"
      },
      "source": [
        "<a href=\"https://colab.research.google.com/github/abdurrahman720/python_ml/blob/main/python_10_Feature_Extraction.ipynb\" target=\"_parent\"><img src=\"https://colab.research.google.com/assets/colab-badge.svg\" alt=\"Open In Colab\"/></a>"
      ]
    },
    {
      "cell_type": "markdown",
      "source": [
        "# Feature Extraction\n",
        "The mapping from textual data to real valued vectors is called feature extraction\n",
        "\n",
        "\n",
        "\n",
        "*   **Bag of Words(BOW):** List of unique words in the text corpus\n",
        "*   **Term Frequency-Inverse Document Frequency (TF-IDF):** To count the number of times each word appears in a document\n",
        "\n",
        "\n",
        "\n",
        "**Term Frequency-Inverse Document Frequency (TF-IDF)** refers:\n",
        "\n",
        "\n",
        "*   **Term Fequency(TF):** (Number of times term t appears in the doc) /(Number of terms in the doc)\n",
        "\n",
        "It finds the impotant or repeated words in documents.\n",
        "\n",
        "\n",
        "*    **Inverse Document Frequency(IDF):** log(N/n), where N is the number of documents and n is the number of documents a term t has appeared in.\n",
        "\n",
        "The IDF value of a rare word is high, whereas the IDF of a frequent word is low. That means it is completely opposite of TF\n",
        "\n",
        "\n",
        "\n",
        "```\n",
        "TF-IDF value of a term = TF * IDF\n",
        "```\n",
        "\n",
        "\n",
        "\n",
        "\n",
        "\n"
      ],
      "metadata": {
        "id": "H6kyhL6kCvJn"
      }
    }
  ]
}