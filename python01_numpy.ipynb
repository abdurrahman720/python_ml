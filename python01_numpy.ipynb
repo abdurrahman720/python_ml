{
  "nbformat": 4,
  "nbformat_minor": 0,
  "metadata": {
    "colab": {
      "provenance": [],
      "authorship_tag": "ABX9TyNQv91nXsUWNGRQegaY/E06",
      "include_colab_link": true
    },
    "kernelspec": {
      "name": "python3",
      "display_name": "Python 3"
    },
    "language_info": {
      "name": "python"
    }
  },
  "cells": [
    {
      "cell_type": "markdown",
      "metadata": {
        "id": "view-in-github",
        "colab_type": "text"
      },
      "source": [
        "<a href=\"https://colab.research.google.com/github/abdurrahman720/python_ml/blob/main/python01.ipynb\" target=\"_parent\"><img src=\"https://colab.research.google.com/assets/colab-badge.svg\" alt=\"Open In Colab\"/></a>"
      ]
    },
    {
      "cell_type": "markdown",
      "source": [
        "##List"
      ],
      "metadata": {
        "id": "beRyJ_0IqB_X"
      }
    },
    {
      "cell_type": "code",
      "source": [
        "my_list = [1,2,3,4,5]\n",
        "type(my_list)"
      ],
      "metadata": {
        "colab": {
          "base_uri": "https://localhost:8080/"
        },
        "id": "YqfoVsJ3qDDo",
        "outputId": "7f71f97b-e4f1-4dfd-a42d-33438747c323"
      },
      "execution_count": null,
      "outputs": [
        {
          "output_type": "execute_result",
          "data": {
            "text/plain": [
              "list"
            ]
          },
          "metadata": {},
          "execution_count": 9
        }
      ]
    },
    {
      "cell_type": "code",
      "source": [
        "my_list.append(6)"
      ],
      "metadata": {
        "id": "qAmcyNvZqPjR"
      },
      "execution_count": null,
      "outputs": []
    },
    {
      "cell_type": "code",
      "source": [
        "print(my_list)"
      ],
      "metadata": {
        "colab": {
          "base_uri": "https://localhost:8080/"
        },
        "id": "GdXvrpx46Rpl",
        "outputId": "ff8591b7-15dc-4860-d57d-00be8a111404"
      },
      "execution_count": null,
      "outputs": [
        {
          "output_type": "stream",
          "name": "stdout",
          "text": [
            "[1, 2, 3, 4, 5, 6]\n"
          ]
        }
      ]
    },
    {
      "cell_type": "code",
      "source": [
        "a = input('hi')"
      ],
      "metadata": {
        "colab": {
          "base_uri": "https://localhost:8080/"
        },
        "id": "qdmN8LSg6Trh",
        "outputId": "eaee24e5-74e8-42bc-80ee-82ff6a794fc6"
      },
      "execution_count": null,
      "outputs": [
        {
          "name": "stdout",
          "output_type": "stream",
          "text": [
            "hia\n"
          ]
        }
      ]
    },
    {
      "cell_type": "code",
      "source": [
        "print(a)"
      ],
      "metadata": {
        "colab": {
          "base_uri": "https://localhost:8080/"
        },
        "id": "pNzroQ5b7JVR",
        "outputId": "8b04ab5b-9101-46b2-a879-27a117aec4cc"
      },
      "execution_count": null,
      "outputs": [
        {
          "output_type": "stream",
          "name": "stdout",
          "text": [
            "a\n"
          ]
        }
      ]
    },
    {
      "cell_type": "code",
      "source": [
        "a = int(input('Enter the value of a:'))\n",
        "print(a)"
      ],
      "metadata": {
        "colab": {
          "base_uri": "https://localhost:8080/"
        },
        "id": "QtSJ3F5J7MNZ",
        "outputId": "3fb2dff7-9af0-451a-96de-8b86f90a9252"
      },
      "execution_count": null,
      "outputs": [
        {
          "output_type": "stream",
          "name": "stdout",
          "text": [
            "Enter the value of a:4\n",
            "4\n"
          ]
        }
      ]
    },
    {
      "cell_type": "code",
      "source": [
        "# prompt: a function to check if a number is odd or even\n",
        "\n",
        "def is_odd(a):\n",
        "  if a % 2 == 0:\n",
        "    return False\n",
        "  else:\n",
        "    return True\n"
      ],
      "metadata": {
        "id": "9dFmR3W073NF"
      },
      "execution_count": null,
      "outputs": []
    },
    {
      "cell_type": "code",
      "source": [
        "def add(a,b):\n",
        "  return a+b"
      ],
      "metadata": {
        "id": "4VrqF08t8LcW"
      },
      "execution_count": null,
      "outputs": []
    },
    {
      "cell_type": "code",
      "source": [
        "add(4,7)"
      ],
      "metadata": {
        "colab": {
          "base_uri": "https://localhost:8080/"
        },
        "id": "Hp6UM_Sf8VpX",
        "outputId": "53475c9e-017c-4cfc-e742-5e75bd175370"
      },
      "execution_count": null,
      "outputs": [
        {
          "output_type": "execute_result",
          "data": {
            "text/plain": [
              "11"
            ]
          },
          "metadata": {},
          "execution_count": 19
        }
      ]
    },
    {
      "cell_type": "code",
      "source": [
        "del my_list[3]\n",
        "print(my_list)"
      ],
      "metadata": {
        "colab": {
          "base_uri": "https://localhost:8080/"
        },
        "id": "H8AKhhz18Xal",
        "outputId": "e0c0373e-f6e1-4c78-f7aa-1ba641459d8d"
      },
      "execution_count": null,
      "outputs": [
        {
          "output_type": "stream",
          "name": "stdout",
          "text": [
            "[1, 2, 3, 5]\n"
          ]
        }
      ]
    },
    {
      "cell_type": "markdown",
      "source": [
        "# Tuple"
      ],
      "metadata": {
        "id": "ZS44AJdS856R"
      }
    },
    {
      "cell_type": "code",
      "source": [
        "tuple_1 = (2,3,4,5)\n",
        "print(tuple_1)"
      ],
      "metadata": {
        "colab": {
          "base_uri": "https://localhost:8080/"
        },
        "id": "CW9aLQLm8v6f",
        "outputId": "727016dc-0864-441e-f677-737a60b0befc"
      },
      "execution_count": null,
      "outputs": [
        {
          "output_type": "stream",
          "name": "stdout",
          "text": [
            "(2, 3, 4, 5)\n"
          ]
        }
      ]
    },
    {
      "cell_type": "markdown",
      "source": [
        "# Operators\n",
        "arithmetic, logical, comparsion, identity, membershiop"
      ],
      "metadata": {
        "id": "Din-TJJzcqKt"
      }
    },
    {
      "cell_type": "code",
      "source": [
        "num1= 20\n",
        "num2 = 10\n",
        "exp = num1 ** num2 #20^10\n",
        "print('exp is : ',exp)"
      ],
      "metadata": {
        "colab": {
          "base_uri": "https://localhost:8080/"
        },
        "id": "8Ae-WChPc1Pn",
        "outputId": "1d41f49b-46d0-454a-b25d-ab6848ea4e94"
      },
      "execution_count": null,
      "outputs": [
        {
          "output_type": "stream",
          "name": "stdout",
          "text": [
            "exp is :  10240000000000\n"
          ]
        }
      ]
    },
    {
      "cell_type": "code",
      "source": [
        "#comparsion\n",
        "a=10\n",
        "print(a>10 and a>5)\n",
        "print(not(a>10 and a>5))"
      ],
      "metadata": {
        "colab": {
          "base_uri": "https://localhost:8080/"
        },
        "id": "xWcoFfg7dhKi",
        "outputId": "f4412a24-7153-472c-a7ab-a259041e8f32"
      },
      "execution_count": null,
      "outputs": [
        {
          "output_type": "stream",
          "name": "stdout",
          "text": [
            "False\n",
            "True\n"
          ]
        }
      ]
    },
    {
      "cell_type": "code",
      "source": [
        "#membership\n",
        "a, b = 5, 10\n",
        "\n",
        "c = [1,5,11]\n",
        "\n",
        "print(a in c) #include in js\n",
        "print(b in c)"
      ],
      "metadata": {
        "colab": {
          "base_uri": "https://localhost:8080/"
        },
        "id": "EKtBVsr_do_Y",
        "outputId": "8c669f24-5a10-4b5d-a488-d8dcebbd546b"
      },
      "execution_count": null,
      "outputs": [
        {
          "output_type": "stream",
          "name": "stdout",
          "text": [
            "True\n",
            "False\n"
          ]
        }
      ]
    },
    {
      "cell_type": "markdown",
      "source": [
        "# Loops"
      ],
      "metadata": {
        "id": "K9AETjfMftwW"
      }
    },
    {
      "cell_type": "code",
      "source": [
        "#loops\n",
        "numbers = [1,4,6,7,9]\n",
        "for i in numbers:\n",
        "  print(i)"
      ],
      "metadata": {
        "colab": {
          "base_uri": "https://localhost:8080/"
        },
        "id": "JKfSgeNHeQ4w",
        "outputId": "562e502f-dd7a-49d7-9c38-e16965be49d6"
      },
      "execution_count": null,
      "outputs": [
        {
          "output_type": "stream",
          "name": "stdout",
          "text": [
            "1\n",
            "4\n",
            "6\n",
            "7\n",
            "9\n"
          ]
        }
      ]
    },
    {
      "cell_type": "code",
      "source": [
        "i=0\n",
        "while i<10:\n",
        "  print(i)\n",
        "  i+=1\n"
      ],
      "metadata": {
        "colab": {
          "base_uri": "https://localhost:8080/"
        },
        "id": "JeMT-hUYfLE0",
        "outputId": "883f7a73-016d-4abe-c878-abbe9b3f374c"
      },
      "execution_count": null,
      "outputs": [
        {
          "output_type": "stream",
          "name": "stdout",
          "text": [
            "0\n",
            "1\n",
            "2\n",
            "3\n",
            "4\n",
            "5\n",
            "6\n",
            "7\n",
            "8\n",
            "9\n"
          ]
        }
      ]
    },
    {
      "cell_type": "markdown",
      "source": [
        "# Function"
      ],
      "metadata": {
        "id": "vpjMH7A8gF_6"
      }
    },
    {
      "cell_type": "code",
      "source": [
        "def fac(n):\n",
        "  factorial =1\n",
        "  if n==0:\n",
        "    return 0\n",
        "  else:\n",
        "    for i in range(1,n+1):\n",
        "      factorial = factorial*i\n",
        "  return factorial\n"
      ],
      "metadata": {
        "id": "IkHAICmtgJAF"
      },
      "execution_count": null,
      "outputs": []
    },
    {
      "cell_type": "code",
      "source": [
        "print(fac(5))"
      ],
      "metadata": {
        "colab": {
          "base_uri": "https://localhost:8080/"
        },
        "id": "ZheQxw9Lh0P3",
        "outputId": "db2a7f1c-8f08-4d95-bc88-7c5677275c04"
      },
      "execution_count": null,
      "outputs": [
        {
          "output_type": "stream",
          "name": "stdout",
          "text": [
            "120\n"
          ]
        }
      ]
    },
    {
      "cell_type": "markdown",
      "source": [
        "# NumPy - Numerical Python\n",
        "\n",
        "\n",
        "*   can store multiple values\n",
        "*   several operations can be done faster rather than list or tuples\n",
        "\n"
      ],
      "metadata": {
        "id": "ZP6DcLE8ihr-"
      }
    },
    {
      "cell_type": "code",
      "source": [
        "import numpy as np"
      ],
      "metadata": {
        "id": "MlRSTF3xh7x8"
      },
      "execution_count": null,
      "outputs": []
    },
    {
      "cell_type": "markdown",
      "source": [
        "List vs NumPy time taken"
      ],
      "metadata": {
        "id": "PsUCsYKwjXNx"
      }
    },
    {
      "cell_type": "code",
      "source": [
        "from time import process_time"
      ],
      "metadata": {
        "id": "G4HD4hq6jeJA"
      },
      "execution_count": null,
      "outputs": []
    },
    {
      "cell_type": "markdown",
      "source": [
        "time taken by list and np"
      ],
      "metadata": {
        "id": "RRiYRQCKjlOc"
      }
    },
    {
      "cell_type": "code",
      "source": [
        "python_list = [i for i in range(100000)]\n",
        "\n",
        "start_time = process_time()\n",
        "\n",
        "python_list = [i+5 for i in python_list]\n",
        "\n",
        "end_time = process_time()\n",
        "\n",
        "print(end_time - start_time)\n",
        "\n"
      ],
      "metadata": {
        "colab": {
          "base_uri": "https://localhost:8080/"
        },
        "id": "PRIy--Nbjnhy",
        "outputId": "58377c7e-66ee-4007-9a9c-5d02e607b411"
      },
      "execution_count": null,
      "outputs": [
        {
          "output_type": "stream",
          "name": "stdout",
          "text": [
            "0.0083068389999994\n"
          ]
        }
      ]
    },
    {
      "cell_type": "code",
      "source": [
        "np_array = np.array([i for i in range(100000)])\n",
        "start_time = process_time()\n",
        "\n",
        "np_array +=5\n",
        "\n",
        "end_time = process_time()\n",
        "\n",
        "print(end_time - start_time)"
      ],
      "metadata": {
        "colab": {
          "base_uri": "https://localhost:8080/"
        },
        "id": "qgltaW9vj0Xf",
        "outputId": "a1622ee3-150a-4c1a-e379-bb6425213152"
      },
      "execution_count": null,
      "outputs": [
        {
          "output_type": "stream",
          "name": "stdout",
          "text": [
            "0.0004339719999961744\n"
          ]
        }
      ]
    },
    {
      "cell_type": "markdown",
      "source": [
        "## NumPy array"
      ],
      "metadata": {
        "id": "mEg1AVOAlA0N"
      }
    },
    {
      "cell_type": "code",
      "source": [
        "np_array= np.array([1,2,3,4,5])\n",
        "\n",
        "print(np_array)\n",
        "\n",
        "type(np_array)"
      ],
      "metadata": {
        "colab": {
          "base_uri": "https://localhost:8080/"
        },
        "id": "NxKycTYzlFaN",
        "outputId": "a5edb192-031a-4a98-a88b-a28d0dd037ea"
      },
      "execution_count": null,
      "outputs": [
        {
          "output_type": "stream",
          "name": "stdout",
          "text": [
            "[1 2 3 4 5]\n"
          ]
        },
        {
          "output_type": "execute_result",
          "data": {
            "text/plain": [
              "numpy.ndarray"
            ]
          },
          "metadata": {},
          "execution_count": 41
        }
      ]
    },
    {
      "cell_type": "code",
      "source": [
        "np_array.shape"
      ],
      "metadata": {
        "colab": {
          "base_uri": "https://localhost:8080/"
        },
        "id": "1nwAexsflXlY",
        "outputId": "e23edd2b-1745-4878-cec0-3a2845dc9926"
      },
      "execution_count": null,
      "outputs": [
        {
          "output_type": "execute_result",
          "data": {
            "text/plain": [
              "(5,)"
            ]
          },
          "metadata": {},
          "execution_count": 43
        }
      ]
    },
    {
      "cell_type": "code",
      "source": [
        "b = np.array([(1,2,3,4,5),(6,7,8,9,10)])\n",
        "print(b)"
      ],
      "metadata": {
        "colab": {
          "base_uri": "https://localhost:8080/"
        },
        "id": "VXPZ652hloKK",
        "outputId": "47c8523b-1336-40ee-bb6d-7262cbab00db"
      },
      "execution_count": null,
      "outputs": [
        {
          "output_type": "stream",
          "name": "stdout",
          "text": [
            "[[ 1  2  3  4  5]\n",
            " [ 6  7  8  9 10]]\n"
          ]
        }
      ]
    },
    {
      "cell_type": "code",
      "source": [
        "b.shape"
      ],
      "metadata": {
        "colab": {
          "base_uri": "https://localhost:8080/"
        },
        "id": "yfJlgfwomKuq",
        "outputId": "71225414-5af5-415a-f6cb-ed9eac624935"
      },
      "execution_count": null,
      "outputs": [
        {
          "output_type": "execute_result",
          "data": {
            "text/plain": [
              "(2, 5)"
            ]
          },
          "metadata": {},
          "execution_count": 46
        }
      ]
    },
    {
      "cell_type": "code",
      "source": [
        "c= np.array([(1,2,3),(4,5,6)],dtype=float)\n",
        "print(c)"
      ],
      "metadata": {
        "colab": {
          "base_uri": "https://localhost:8080/"
        },
        "id": "isC386vjmTf9",
        "outputId": "bc6d778b-e5d0-46d4-f160-cf9c33fc3a33"
      },
      "execution_count": null,
      "outputs": [
        {
          "output_type": "stream",
          "name": "stdout",
          "text": [
            "[[1. 2. 3.]\n",
            " [4. 5. 6.]]\n"
          ]
        }
      ]
    },
    {
      "cell_type": "markdown",
      "source": [
        "Initial placeholders in numpy array"
      ],
      "metadata": {
        "id": "v0DcRto0m0LF"
      }
    },
    {
      "cell_type": "code",
      "source": [
        "# intial value 0\n",
        "x= np.zeros((4,5))\n",
        "print(x)"
      ],
      "metadata": {
        "colab": {
          "base_uri": "https://localhost:8080/"
        },
        "id": "S_3ZKuoemt9Y",
        "outputId": "8800bffd-3a63-42ab-827b-c2ca1ca3db35"
      },
      "execution_count": null,
      "outputs": [
        {
          "output_type": "stream",
          "name": "stdout",
          "text": [
            "[[0. 0. 0. 0. 0.]\n",
            " [0. 0. 0. 0. 0.]\n",
            " [0. 0. 0. 0. 0.]\n",
            " [0. 0. 0. 0. 0.]]\n"
          ]
        }
      ]
    },
    {
      "cell_type": "code",
      "source": [
        "# inital value 1\n",
        "y = np.ones((3,3))\n",
        "print(y)"
      ],
      "metadata": {
        "colab": {
          "base_uri": "https://localhost:8080/"
        },
        "id": "ZOU_Q5mtnER6",
        "outputId": "14bb150b-8c28-4e46-ec03-115eede79590"
      },
      "execution_count": null,
      "outputs": [
        {
          "output_type": "stream",
          "name": "stdout",
          "text": [
            "[[1. 1. 1.]\n",
            " [1. 1. 1.]\n",
            " [1. 1. 1.]]\n"
          ]
        }
      ]
    },
    {
      "cell_type": "code",
      "source": [
        "# inital with a prticular value\n",
        "y = np.full((3,3),5)\n",
        "print(y)"
      ],
      "metadata": {
        "colab": {
          "base_uri": "https://localhost:8080/"
        },
        "id": "tMsCsxPEnSmB",
        "outputId": "dc37a287-3d39-48d1-ef0c-ffdde755b038"
      },
      "execution_count": null,
      "outputs": [
        {
          "output_type": "stream",
          "name": "stdout",
          "text": [
            "[[5 5 5]\n",
            " [5 5 5]\n",
            " [5 5 5]]\n"
          ]
        }
      ]
    },
    {
      "cell_type": "code",
      "source": [
        "#indentity matrix\n",
        "a = np.eye(4)\n",
        "print(a)"
      ],
      "metadata": {
        "colab": {
          "base_uri": "https://localhost:8080/"
        },
        "id": "6LdwJRYangUB",
        "outputId": "1540bfba-fc85-4629-801d-4edcda58eaa1"
      },
      "execution_count": null,
      "outputs": [
        {
          "output_type": "stream",
          "name": "stdout",
          "text": [
            "[[1. 0. 0. 0.]\n",
            " [0. 1. 0. 0.]\n",
            " [0. 0. 1. 0.]\n",
            " [0. 0. 0. 1.]]\n"
          ]
        }
      ]
    },
    {
      "cell_type": "code",
      "source": [
        "# inital with random value\n",
        "a = np.random.random((3,4))\n",
        "print(a)"
      ],
      "metadata": {
        "colab": {
          "base_uri": "https://localhost:8080/"
        },
        "id": "H0MnC0bGnwmE",
        "outputId": "76ddf233-cc75-4b1a-d02d-c8c9b1dcfc3a"
      },
      "execution_count": null,
      "outputs": [
        {
          "output_type": "stream",
          "name": "stdout",
          "text": [
            "[[0.40391817 0.69316235 0.93180005 0.82479377]\n",
            " [0.49501502 0.23459514 0.0294643  0.79222799]\n",
            " [0.13458929 0.47240929 0.5586168  0.9618974 ]]\n"
          ]
        }
      ]
    },
    {
      "cell_type": "code",
      "source": [
        "# inital with random value int\n",
        "a = np.random.randint(10,100,(3,5)) #value range is 10 to 100 and rowXcols is 3:5\n",
        "print(a)"
      ],
      "metadata": {
        "colab": {
          "base_uri": "https://localhost:8080/"
        },
        "id": "c6WNrBoKoQ3_",
        "outputId": "ba687ec7-1e3a-4f06-88d0-d93df3c70304"
      },
      "execution_count": null,
      "outputs": [
        {
          "output_type": "stream",
          "name": "stdout",
          "text": [
            "[[36 70 76 35 15]\n",
            " [69 60 64 79 20]\n",
            " [49 44 65 30 33]]\n"
          ]
        }
      ]
    },
    {
      "cell_type": "code",
      "source": [
        "# inital with evenly values\n",
        "a = np.linspace(10,30,5) # range is 10 to 30 and elements is 5\n",
        "\n",
        "print(a)"
      ],
      "metadata": {
        "colab": {
          "base_uri": "https://localhost:8080/"
        },
        "id": "_GnRxPiZoeoL",
        "outputId": "5ae0f59d-bf3f-4adb-96da-cf68d6bf37df"
      },
      "execution_count": null,
      "outputs": [
        {
          "output_type": "stream",
          "name": "stdout",
          "text": [
            "[10. 15. 20. 25. 30.]\n"
          ]
        }
      ]
    },
    {
      "cell_type": "code",
      "source": [
        "#arithmetic operations\n",
        "import numpy as np\n",
        "\n",
        "a= np.random.randint(0,10,(3,3))\n",
        "b= np.random.randint(10,20,(3,3))\n",
        "print(np.add(a,b))"
      ],
      "metadata": {
        "id": "OnXXD-E3o5C_",
        "colab": {
          "base_uri": "https://localhost:8080/"
        },
        "outputId": "ad22700b-3c69-4e9c-f07c-7ac456cddef4"
      },
      "execution_count": 3,
      "outputs": [
        {
          "output_type": "stream",
          "name": "stdout",
          "text": [
            "[[12 28 15]\n",
            " [18 22 12]\n",
            " [16 23 16]]\n"
          ]
        }
      ]
    },
    {
      "cell_type": "code",
      "source": [],
      "metadata": {
        "id": "kw8y5YZcjODq"
      },
      "execution_count": null,
      "outputs": []
    }
  ]
}
